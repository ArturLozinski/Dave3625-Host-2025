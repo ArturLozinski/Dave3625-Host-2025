{
 "cells": [
  {
   "cell_type": "markdown",
   "metadata": {},
   "source": [
    "# Solutions to Lab0 Exercises"
   ]
  },
  {
   "cell_type": "markdown",
   "metadata": {},
   "source": [
    "## Task 1: \"Hello World!\""
   ]
  },
  {
   "cell_type": "code",
   "execution_count": null,
   "metadata": {},
   "outputs": [
    {
     "name": "stdout",
     "output_type": "stream",
     "text": [
      "Hello World!\n"
     ]
    }
   ],
   "source": [
    "print(\"Hello World!\")"
   ]
  },
  {
   "cell_type": "markdown",
   "metadata": {},
   "source": [
    "## Task 2: Basic Arithmetic"
   ]
  },
  {
   "cell_type": "code",
   "execution_count": 4,
   "metadata": {},
   "outputs": [
    {
     "name": "stdout",
     "output_type": "stream",
     "text": [
      "5 + 3 =  8\n",
      "4 * 7 =  28\n",
      "10 / 2 =  5.0\n"
     ]
    }
   ],
   "source": [
    "# Add two numbers\n",
    "print(\"5 + 3 = \", 5 + 3)\n",
    "\n",
    "# Multiply two numbers\n",
    "print(\"4 * 7 = \", 4 * 7)\n",
    "\n",
    "# Divide a number\n",
    "print(\"10 / 2 = \",10 / 2)\n"
   ]
  },
  {
   "cell_type": "markdown",
   "metadata": {},
   "source": [
    "## Task 3: Variables"
   ]
  },
  {
   "cell_type": "code",
   "execution_count": 5,
   "metadata": {},
   "outputs": [
    {
     "name": "stdout",
     "output_type": "stream",
     "text": [
      "Name: Jens\n",
      "Age: 29\n",
      "Name: Ruth\n",
      "Age: 25\n"
     ]
    }
   ],
   "source": [
    "name = \"Jens\"\n",
    "age = 29\n",
    "print(\"Name:\", name)\n",
    "print(\"Age:\", age)\n",
    "\n",
    "# or \n",
    "\n",
    "name = \"Ruth\"\n",
    "age = 25\n",
    "print(f\"Name: {name}\")\n",
    "print(f\"Age: {age}\")"
   ]
  },
  {
   "cell_type": "markdown",
   "metadata": {},
   "source": [
    "## Task 4: Simple Loops"
   ]
  },
  {
   "cell_type": "code",
   "execution_count": 6,
   "metadata": {},
   "outputs": [
    {
     "name": "stdout",
     "output_type": "stream",
     "text": [
      "This is line number 0\n",
      "This is line number 1\n",
      "This is line number 2\n",
      "This is line number 3\n",
      "This is line number 4\n"
     ]
    }
   ],
   "source": [
    "for i in range(5):\n",
    "    print(\"This is line number\", i)"
   ]
  },
  {
   "cell_type": "markdown",
   "metadata": {},
   "source": [
    "## Task 5: Conditional Statements"
   ]
  },
  {
   "cell_type": "code",
   "execution_count": 7,
   "metadata": {},
   "outputs": [
    {
     "name": "stdout",
     "output_type": "stream",
     "text": [
      "The number is greater than 5\n"
     ]
    }
   ],
   "source": [
    "number = 10\n",
    "if number > 5:\n",
    "    print(\"The number is greater than 5\")\n",
    "else:\n",
    "    print(\"The number is not greater than 5\")\n"
   ]
  },
  {
   "cell_type": "markdown",
   "metadata": {},
   "source": [
    "## Task 6: Match-Case Statements"
   ]
  },
  {
   "cell_type": "code",
   "execution_count": 8,
   "metadata": {},
   "outputs": [
    {
     "name": "stdout",
     "output_type": "stream",
     "text": [
      "Midweek already!\n",
      "Day tested: Wednesday\n",
      "\n"
     ]
    }
   ],
   "source": [
    "day = \"Wednesday\"  # You can change this to test different days\n",
    "\n",
    "match day:\n",
    "    case \"Monday\":\n",
    "        print(\"Start of the work week!\")\n",
    "    case \"Wednesday\":\n",
    "        print(\"Midweek already!\")\n",
    "    case \"Friday\":\n",
    "        print(\"Almost weekend!\")\n",
    "    case \"Saturday\" | \"Sunday\":\n",
    "        print(\"Weekend time!\")\n",
    "    case _:\n",
    "        print(\"Just another day\")\n",
    "\n",
    "print(f\"Day tested: {day}\")\n",
    "print()"
   ]
  },
  {
   "cell_type": "markdown",
   "metadata": {},
   "source": [
    "## Task 6: Bonus"
   ]
  },
  {
   "cell_type": "code",
   "execution_count": 9,
   "metadata": {},
   "outputs": [
    {
     "name": "stdout",
     "output_type": "stream",
     "text": [
      "\n",
      "--- Interactive Test ---\n",
      "Monday -> Start of the work week!\n",
      "tuesday -> Just another day\n",
      "WEDNESDAY -> Midweek already!\n",
      "Friday -> Almost weekend!\n",
      "Saturday -> Weekend time!\n",
      "sunday -> Weekend time!\n",
      "Thursday -> Just another day\n"
     ]
    }
   ],
   "source": [
    "print(\"\\n--- Interactive Test ---\")\n",
    "test_days = [\"Monday\", \"tuesday\", \"WEDNESDAY\", \"Friday\", \"Saturday\", \"sunday\", \"Thursday\"]\n",
    "\n",
    "for test_day in test_days:\n",
    "    match test_day.lower():  # Convert to lowercase for consistent matching\n",
    "        case \"monday\":\n",
    "            result = \"Start of the work week!\"\n",
    "        case \"wednesday\":\n",
    "            result = \"Midweek already!\"\n",
    "        case \"friday\":\n",
    "            result = \"Almost weekend!\"\n",
    "        case \"saturday\" | \"sunday\":\n",
    "            result = \"Weekend time!\"\n",
    "        case _:\n",
    "            result = \"Just another day\"\n",
    "    \n",
    "    print(f\"{test_day} -> {result}\")"
   ]
  },
  {
   "cell_type": "code",
   "execution_count": null,
   "metadata": {},
   "outputs": [],
   "source": []
  }
 ],
 "metadata": {
  "kernelspec": {
   "display_name": "Lab0",
   "language": "python",
   "name": "python3"
  },
  "language_info": {
   "codemirror_mode": {
    "name": "ipython",
    "version": 3
   },
   "file_extension": ".py",
   "mimetype": "text/x-python",
   "name": "python",
   "nbconvert_exporter": "python",
   "pygments_lexer": "ipython3",
   "version": "3.12.7"
  }
 },
 "nbformat": 4,
 "nbformat_minor": 2
}
